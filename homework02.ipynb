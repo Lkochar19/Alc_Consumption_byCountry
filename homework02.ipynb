{
 "cells": [
  {
   "cell_type": "markdown",
   "id": "08bea623",
   "metadata": {},
   "source": [
    "# Homework 02"
   ]
  },
  {
   "cell_type": "markdown",
   "id": "77faddc7-5e4f-4500-8242-0804770d8a59",
   "metadata": {},
   "source": [
    "# Homework 02"
   ]
  },
  {
   "cell_type": "markdown",
   "id": "2b508804",
   "metadata": {},
   "source": [
    "\n",
    "## Part 1 - Questions\n",
    "\n",
    "### Question 1: \n",
    "\n",
    "Which country consumes the most alcohol?\n",
    "\n",
    "* Who (population): Global Countries\n",
    "* What (subject, discipline): Alcohol Consumption\n",
    "* Where (location): Global\n",
    "* When (snapshot, longitudinal): Annual\n",
    "* How much data do you need to do the analysis/work: All countries and their alcohol consumption\n",
    "\n",
    "### Question 2: \n",
    "\n",
    "Do countries with colder climates typically consume more alcohol than those with warmer climates?\n",
    "\n",
    "* Who (population): Global Countries\n",
    "* What (subject, discipline): Alcohol Consumtion vs. Climate\n",
    "* Where (location): Global\n",
    "* When (snapshot, longitudinal): Annual\n",
    "* How much data do you need to do the analysis/work: All countries and their alcohol consumption + their climate/weather patterns\n",
    "\n",
    "### Who Might Collect Relevant Data / What Articles or Publications Cite a Relevant Data Set?\n",
    "\n",
    "World Health Organization "
   ]
  },
  {
   "cell_type": "markdown",
   "id": "15af6b44",
   "metadata": {
    "tags": []
   },
   "source": [
    "## Part 2 - Selecting a Data Set, Adding Documentation\n",
    "\n",
    "\n",
    "1. Name / Title: Alcohol Consumption: Where Do People Drink The Most Beer, Wine And Spirits?\n",
    "2. Link to Data: https://www.kaggle.com/mysarahmadbhat/alcohol-consumption\n",
    "3. Source / Origin: \n",
    "\t* Author or Creator: World Health Organization, Global Information System on Alcohol and Health (GISAH\n",
    "\t* Publication Date: 2010\n",
    "\t* Publisher: World Health Organization, Kaggle\n",
    "\t* Version or Data Accessed: 2010\n",
    "4. License: CC0: Public Domain\n",
    "5. Can You Use this Data Set for Your Intended Use Case? Yes\n"
   ]
  },
  {
   "cell_type": "markdown",
   "id": "f509b783",
   "metadata": {},
   "source": [
    "## Format\n",
    "\n"
   ]
  },
  {
   "cell_type": "markdown",
   "id": "76fc5788",
   "metadata": {},
   "source": [
    "\n",
    "### Overview\n",
    "\n",
    "* Format: .csv\n",
    "* Size: 4KB\n",
    "* Number of Records: 193\n",
    "\n"
   ]
  },
  {
   "cell_type": "markdown",
   "id": "bdb79aa8",
   "metadata": {},
   "source": [
    "### Sample of Data\n",
    "\n",
    "\n"
   ]
  },
  {
   "cell_type": "code",
   "execution_count": 17,
   "id": "81cebcac",
   "metadata": {},
   "outputs": [
    {
     "name": "stdout",
     "output_type": "stream",
     "text": [
      "line[0] = ['country', 'beer_servings', 'spirit_servings', 'wine_servings', 'total_litres_of_pure_alcohol']\n",
      "line[1] = ['Afghanistan', '0', '0', '0', '0.0']\n",
      "line[2] = ['Albania', '89', '132', '54', '4.9']\n",
      "line[3] = ['Algeria', '25', '0', '14', '0.7']\n",
      "line[4] = ['Andorra', '245', '138', '312', '12.4']\n",
      "line[5] = ['Angola', '217', '57', '45', '5.9']\n",
      "line[6] = ['Antigua & Barbuda', '102', '128', '45', '4.9']\n",
      "line[7] = ['Argentina', '193', '25', '221', '8.3']\n",
      "line[8] = ['Armenia', '21', '179', '11', '3.8']\n",
      "line[9] = ['Australia', '261', '72', '212', '10.4']\n",
      "line[10] = ['Austria', '279', '75', '191', '9.7']\n"
     ]
    }
   ],
   "source": [
    "# TODO show a few lines of data from the actual file\n",
    "\n",
    "# Use \"regular\" Python to do this in this code block\n",
    "# Assume that jupyter-lab was started in your root directory\n",
    "# with open('./data/raw/example-data.csv', 'r'): \n",
    "import csv\n",
    "\n",
    "with open('../data/raw/drinks.csv', 'r') as f:\n",
    "    reader = csv.reader(f)\n",
    "    for i,line in enumerate(reader):\n",
    "        print('line[{}] = {}'.format(i,line))\n",
    "        if i>9:\n",
    "            break"
   ]
  },
  {
   "cell_type": "markdown",
   "id": "47c3c81a",
   "metadata": {},
   "source": [
    "\n",
    "### Fields or Column Headers\n",
    "\n",
    "* Field/Column 1: Country - string\n",
    "* Field/Column 2: # of beer servings - int\n",
    "* Field/Column 3: # of spirit servings - int\n",
    "* Field/Column 4: # of wine servings - int\n",
    "* Field/Column 5: total litres of pure alcohol - int"
   ]
  },
  {
   "cell_type": "markdown",
   "id": "04048991",
   "metadata": {},
   "source": [
    "## Part 3 - Extract / Transform\n",
    "\n",
    "* Extract first and final column  - country and total litres of alcohol overall\n",
    "* skimmed over the data - no anomolies - could use -> if (data entry) contains (str ,if you want integers): skip/pass\n",
    "* will probably convert all columns into floats (2f) to match up types"
   ]
  },
  {
   "cell_type": "code",
   "execution_count": 201,
   "id": "6110a15b",
   "metadata": {},
   "outputs": [
    {
     "data": {
      "text/plain": [
       "array([ 0. ,  4.9,  0.7, 12.4,  5.9,  4.9,  8.3,  3.8, 10.4,  9.7,  1.3,\n",
       "        6.3,  2. ,  0. ,  6.3, 14.4, 10.5,  6.8,  1.1,  0.4,  3.8,  4.6,\n",
       "        5.4,  7.2,  0.6, 10.3,  4.3,  6.3,  4. ,  4. ,  2.2,  5.8,  8.2,\n",
       "        1.8,  0.4,  7.6,  5. ,  4.2,  0.1,  1.7,  5.9,  4.4, 10.2,  4.2,\n",
       "        8.2, 11.8,  0. ,  2.3, 10.4,  1.1,  6.6,  6.2,  4.2,  0.2,  2.2,\n",
       "        5.8,  0.5,  9.5,  0.7,  2. , 10. , 11.8,  8.9,  2.4,  5.4, 11.3,\n",
       "        1.8,  8.3, 11.9,  2.2,  0.2,  2.5,  7.1,  5.9,  3. , 11.3,  6.6,\n",
       "        2.2,  0.1,  0. ,  0.2, 11.4,  2.5,  6.5,  3.4,  7. ,  0.5,  6.8,\n",
       "        1.8,  1. ,  0. ,  2.4,  6.2, 10.5,  1.9,  2.8,  3.1,  0. , 12.9,\n",
       "       11.4,  0.8,  1.5,  0.3,  0. ,  0.6,  6.6,  0. ,  0. ,  2.6,  5.5,\n",
       "        2.3,  0. ,  4.9,  4.9,  0.5,  1.3,  0.1,  6.8,  1. ,  0.2,  9.4,\n",
       "        9.3,  3.5,  0.1,  9.1,  7. ,  6.7,  0.7,  0. ,  6.9,  7.2,  1.5,\n",
       "        7.3,  6.1,  4.6, 10.9, 11. ,  0.9,  9.8,  6.3, 10.4, 11.5,  6.8,\n",
       "        7.7, 10.1,  6.3,  2.6,  0. ,  4.2,  0.1,  0.3,  9.6,  4.1,  6.7,\n",
       "        1.5, 11.4, 10.6,  1.2,  0. ,  8.2, 10. ,  2.2,  1.7,  5.6,  4.7,\n",
       "        7.2, 10.2,  1. ,  0.3,  6.4,  3.9,  0.1,  1.3,  1.1,  6.4,  1.3,\n",
       "        1.4,  2.2,  1. ,  8.3,  8.9,  2.8, 10.4,  5.7,  8.7,  6.6,  2.4,\n",
       "        0.9,  7.7,  2. ,  0.1,  2.5,  4.7], dtype=float128)"
      ]
     },
     "execution_count": 201,
     "metadata": {},
     "output_type": "execute_result"
    }
   ],
   "source": [
    "# extract\n",
    "import csv\n",
    "import numpy as np\n",
    "\n",
    "file = '../data/raw/drinks.csv'\n",
    "\n",
    "fields_list = []\n",
    "beer_list = []\n",
    "spirit_list = []\n",
    "wine_list = []\n",
    "total_alc_list = []\n",
    "\n",
    "with open(file) as f:\n",
    "    reader = csv.reader(f)\n",
    "    headers = next(reader)\n",
    "    \n",
    "    for row in reader:\n",
    "        fields_list.append(row[0])\n",
    "        beer_list.append(row[1])\n",
    "        spirit_list.append(row[2])\n",
    "        wine_list.append(row[3])\n",
    "        total_alc_list.append(row[4])\n",
    "        \n",
    "        for entry in row:\n",
    "            if isinstance(entry,str):\n",
    "                if entry == '':\n",
    "                    entry = None\n",
    "                else:\n",
    "                    continue\n",
    "            elif isinstance(entry,int):\n",
    "                if entry == None:\n",
    "                    entry = 0\n",
    "            else:\n",
    "                continue\n",
    "                \n",
    "fields = np.array(fields_list)\n",
    "beers = np.array(beer_list,dtype=np.float128)\n",
    "spirits = np.array(spirit_list,dtype=np.float128)\n",
    "wines = np.array(wine_list,dtype=np.float128)\n",
    "total_alc = np.array(total_alc_list, dtype=np.float128)\n",
    "\n",
    "total_alc"
   ]
  },
  {
   "cell_type": "markdown",
   "id": "71c6ed96",
   "metadata": {},
   "source": [
    "## Part 4 - Descriptive Statistics\n",
    "\n",
    "### Analysis on Numeric Data\n",
    "\n",
    "#### Central Tendency\n",
    "\n"
   ]
  },
  {
   "cell_type": "code",
   "execution_count": 217,
   "id": "2239506b",
   "metadata": {},
   "outputs": [
    {
     "name": "stdout",
     "output_type": "stream",
     "text": [
      "Mean beer consumption by country:  106.16\n",
      "Mean spirit consumption by country:  80.99\n",
      "Mean wine consumption by country:  49.45\n",
      "\n",
      "--> Mean total alcohol consumption by country:  4.72\n",
      "\n",
      "Median beer consumption by country:  76.0\n",
      "Median spirit consumption by country:  56.0\n",
      "Median wine consumption by country:  8.0\n",
      "\n",
      "--> Median total alcohol consumption by country:  4.2\n"
     ]
    }
   ],
   "source": [
    "# mean, median\n",
    "\n",
    "print('Mean beer consumption by country: ', np.round(np.mean(beers),2))\n",
    "print('Mean spirit consumption by country: ', np.round(np.mean(spirits),2))\n",
    "print('Mean wine consumption by country: ', np.round(np.mean(wines),2))\n",
    "print('\\n--> Mean total alcohol consumption by country: ', np.round(np.mean(total_alc),2))\n",
    "\n",
    "print('\\nMedian beer consumption by country: ', np.round(np.median(beers),2))\n",
    "print('Median spirit consumption by country: ', np.round(np.median(spirits),2))\n",
    "print('Median wine consumption by country: ', np.round(np.median(wines),2))\n",
    "print('\\n--> Median total alcohol consumption by country: ', np.round(np.median(total_alc),2))\n"
   ]
  },
  {
   "cell_type": "markdown",
   "id": "b3bb5865",
   "metadata": {},
   "source": [
    "#### Dispersion"
   ]
  },
  {
   "cell_type": "code",
   "execution_count": 224,
   "id": "96650905",
   "metadata": {},
   "outputs": [
    {
     "name": "stdout",
     "output_type": "stream",
     "text": [
      "Standard deviation for beer consumption by country:  100.88\n",
      "Standard deviation for spirit consumption by country:  88.06\n",
      "Standard deviation for wine consumption by country:  79.49\n",
      "\n",
      "--> Standard deviation for total alcohol consumption by country:  3.76\n",
      "\n",
      "Variance for beer consumption by country:  10176.92\n",
      "Variance for spirit consumption by country:  7753.74\n",
      "Variance for wine consumption by country:  6318.8\n",
      "\n",
      "--> Variance for total alcohol consumption by country:  14.16\n"
     ]
    }
   ],
   "source": [
    "#variance, standard deviation\n",
    "print('Standard deviation for beer consumption by country: ', np.round(np.std(beers),2))\n",
    "print('Standard deviation for spirit consumption by country: ', np.round(np.std(spirits),2))\n",
    "print('Standard deviation for wine consumption by country: ', np.round(np.std(wines),2))\n",
    "print('\\n--> Standard deviation for total alcohol consumption by country: ', np.round(np.std(total_alc),2))\n",
    "\n",
    "print('\\nVariance for beer consumption by country: ', np.round(np.var(beers),2))\n",
    "print('Variance for spirit consumption by country: ', np.round(np.var(spirits),2))\n",
    "print('Variance for wine consumption by country: ', np.round(np.var(wines),2))\n",
    "print('\\n--> Variance for total alcohol consumption by country: ', np.round(np.var(total_alc),2))"
   ]
  },
  {
   "cell_type": "markdown",
   "id": "e3b75216",
   "metadata": {},
   "source": [
    "#### Outliers\n"
   ]
  },
  {
   "cell_type": "code",
   "execution_count": 251,
   "id": "ef84cf17",
   "metadata": {},
   "outputs": [
    {
     "name": "stdout",
     "output_type": "stream",
     "text": [
      "Minimum for beer consumption by country:  0.0\n",
      "Minimum for spirit consumption by country:  0.0\n",
      "Minimum for wine consumption by country:  0.0\n",
      "\n",
      "--> Minimum for total alcohol consumption by country:  0.0\n",
      "\n",
      "Maximum for beer consumption by country:  376.0\n",
      "Maximum for spirit consumption by country:  438.0\n",
      "Maximum for wine consumption by country:  370.0\n",
      "\n",
      "--> Maximum for total alcohol consumption by country:  370.0\n",
      "\n",
      "Range for beer consumption by country:  376.0\n",
      "Range for spirit consumption by country:  438.0\n",
      "Range for wine consumption by country:  370.0\n",
      "\n",
      "--> Range for total alcohol consumption by country:  370.0\n"
     ]
    }
   ],
   "source": [
    "# range, min, max\n",
    "\n",
    "bmin = np.nanmin(beers)\n",
    "smin = np.nanmin(spirits)\n",
    "wmin = np.nanmin(wines)\n",
    "tmin = np.nanmin(total_alc)\n",
    "print('Minimum for beer consumption by country: ', bmin)\n",
    "print('Minimum for spirit consumption by country: ', smin)\n",
    "print('Minimum for wine consumption by country: ', wmin)\n",
    "print('\\n--> Minimum for total alcohol consumption by country: ', tmin)\n",
    "\n",
    "bmax = np.amax(beers)\n",
    "smax = np.amax(spirits)\n",
    "wmax = np.amax(wines)\n",
    "tmax = np.amax(wines)\n",
    "print('\\nMaximum for beer consumption by country: ', bmax)\n",
    "print('Maximum for spirit consumption by country: ', smax)\n",
    "print('Maximum for wine consumption by country: ', wmax)\n",
    "print('\\n--> Maximum for total alcohol consumption by country: ', tmax)\n",
    "\n",
    "print('\\nRange for beer consumption by country: ', bmax-bmin)\n",
    "print('Range for spirit consumption by country: ', smax-smin)\n",
    "print('Range for wine consumption by country: ', wmax-wmin)\n",
    "print('\\n--> Range for total alcohol consumption by country: ', tmax-tmin)"
   ]
  },
  {
   "cell_type": "markdown",
   "id": "b60357e4",
   "metadata": {},
   "source": [
    "#### Other\n"
   ]
  },
  {
   "cell_type": "code",
   "execution_count": 308,
   "id": "1299a823",
   "metadata": {},
   "outputs": [
    {
     "name": "stdout",
     "output_type": "stream",
     "text": [
      "Number of countries starting with A: 11\n",
      "Number of countries starting with B: 17\n",
      "Number of countries starting with C: 18\n",
      "Number of countries starting with N: 11\n",
      "Number of countries starting with D: 5\n",
      "Number of countries starting with E: 7\n",
      "Number of countries starting with F: 3\n",
      "Number of countries starting with G: 11\n",
      "Number of countries starting with H: 3\n",
      "Number of countries starting with I: 8\n",
      "Number of countries starting with J: 3\n",
      "Number of countries starting with K: 5\n",
      "Number of countries starting with L: 8\n",
      "Number of countries starting with M: 19\n",
      "Number of countries starting with O: 1\n",
      "Number of countries starting with P: 9\n",
      "Number of countries starting with Q: 1\n",
      "Number of countries starting with S: 26\n",
      "Number of countries starting with R: 3\n",
      "Number of countries starting with T: 11\n",
      "Number of countries starting with U: 7\n",
      "Number of countries starting with V: 3\n",
      "Number of countries starting with Y: 1\n",
      "Number of countries starting with Z: 2\n"
     ]
    }
   ],
   "source": [
    "# number of a countries, b countries, etc - for each letter of alphabet\n",
    "import string\n",
    "\n",
    "maindict = dict()\n",
    "\n",
    "for country in fields:\n",
    "    first_letter = str(country[0])\n",
    "\n",
    "    if first_letter in maindict:\n",
    "        maindict[first_letter].append(country)\n",
    "    elif first_letter not in maindict:\n",
    "        maindict[first_letter] = [country]\n",
    "    else:\n",
    "        raise ValueError('You should not be getting this error lol')\n",
    "\n",
    "for key in maindict:\n",
    "    print(\"Number of countries starting with {}: {}\".format(key, len(maindict[key])))"
   ]
  },
  {
   "cell_type": "markdown",
   "id": "b0d74ab8",
   "metadata": {},
   "source": [
    "###  Analysis on Categorical Data"
   ]
  },
  {
   "cell_type": "markdown",
   "id": "30eac93a",
   "metadata": {},
   "source": [
    "#### Frequency"
   ]
  },
  {
   "cell_type": "code",
   "execution_count": 363,
   "id": "cb5e19c9",
   "metadata": {},
   "outputs": [
    {
     "name": "stdout",
     "output_type": "stream",
     "text": [
      "Which letter has the most countries starting with it? : S\n",
      "\n",
      "Countries starting with S: \n",
      "South Korea\n",
      "St. Kitts & Nevis\n",
      "St. Lucia\n",
      "St. Vincent & the Grenadines\n",
      "Samoa\n",
      "San Marino\n",
      "Sao Tome & Principe\n",
      "Saudi Arabia\n",
      "Senegal\n",
      "Serbia\n",
      "Seychelles\n",
      "Sierra Leone\n",
      "Singapore\n",
      "Slovakia\n",
      "Slovenia\n",
      "Solomon Islands\n",
      "Somalia\n",
      "South Africa\n",
      "Spain\n",
      "Sri Lanka\n",
      "Sudan\n",
      "Suriname\n",
      "Swaziland\n",
      "Sweden\n",
      "Switzerland\n",
      "Syria\n"
     ]
    }
   ],
   "source": [
    "mostn = 0\n",
    "for key in maindict:\n",
    "    if len(maindict[key]) > mostn:\n",
    "        mostn = len(maindict[key])\n",
    "        mostl = key\n",
    "    else:\n",
    "        pass\n",
    "\n",
    "print('Which letter has the most countries starting with it? : {}'.format(mostl))\n",
    "print('\\nCountries starting with {}: '.format(mostl))\n",
    "for country in maindict[mostl]:\n",
    "    print(country)"
   ]
  },
  {
   "cell_type": "markdown",
   "id": "67f2161c",
   "metadata": {},
   "source": [
    "## Part 5 - Visualizations\n",
    "\n"
   ]
  },
  {
   "cell_type": "code",
   "execution_count": 419,
   "id": "68e4e5ab",
   "metadata": {},
   "outputs": [
    {
     "data": {
      "image/png": "[encoded data removed]",
      "text/plain": [
       "<Figure size 432x288 with 1 Axes>"
      ]
     },
     "metadata": {
      "needs_background": "light"
     },
     "output_type": "display_data"
    }
   ],
   "source": [
    "import matplotlib.pyplot as mpl\n",
    "\n",
    "# number of countries per letter\n",
    "alphabet = string.ascii_uppercase\n",
    "x=[]\n",
    "y=[]\n",
    "for letter in alphabet:\n",
    "    x.append(letter)\n",
    "for key in maindict:\n",
    "    y.append(len(maindict[key]))\n",
    "\n",
    "y.append(0)\n",
    "y.append(0)\n",
    "\n",
    "mpl.title('Number of Countries per Alphabet Letter', fontdict=None, loc='center', pad=None)\n",
    "mpl.xlabel('# of Countries',loc='center')\n",
    "mpl.ylabel('Alphabetical Letter',loc='center')\n",
    "mpl.barh(x,y, color = 'pink')\n",
    "mpl.show()\n",
    "\n",
    "### \n"
   ]
  },
  {
   "cell_type": "code",
   "execution_count": 450,
   "id": "d997d476-958c-4615-a019-6bbe49f966d3",
   "metadata": {},
   "outputs": [
    {
     "data": {
      "image/png": "[encoded data removed]",
      "text/plain": [
       "<Figure size 432x288 with 1 Axes>"
      ]
     },
     "metadata": {
      "needs_background": "light"
     },
     "output_type": "display_data"
    }
   ],
   "source": [
    "# Top 8 Countries and their alcohol consumption\n",
    "\n",
    "# top 8 countries:\n",
    "'''\n",
    "belarus\n",
    "lithuania\n",
    "andorra\n",
    "russian federation\n",
    "grenada\n",
    "france\n",
    "germany\n",
    "'''\n",
    "\n",
    "b = ['Belarus','Lithuania','Andorra','Russian Federation','Grenada','France','Germany']\n",
    "fake = []\n",
    "z = []\n",
    "\n",
    "for c in b:\n",
    "    indexlist = np.where(fields == c)\n",
    "    for value in indexlist:\n",
    "        index = value\n",
    "    fake.append(total_alc[index])\n",
    "for n in fake:\n",
    "    for f in n:\n",
    "        z.append(f)\n",
    "\n",
    "mpl.title('Top 8 Countries by Alcohol Consumption ', fontdict=None, loc='center', pad=None)\n",
    "mpl.xlabel('Country',loc='center')\n",
    "mpl.ylabel('Total Litres of Pure Alcohol',loc='center')\n",
    "\n",
    "mpl.barh(b,z, color = 'purple')\n",
    "mpl.show()"
   ]
  },
  {
   "cell_type": "markdown",
   "id": "12f10d0e",
   "metadata": {},
   "source": [
    "## Part 6 - Conclusion\n",
    "\n",
    "In answer to the following:\n",
    "\n",
    "### Question 1: \n",
    "\n",
    "Which country consumes the most alcohol?\n",
    "\n",
    "Belarus consumes the most alcohol, with a whopping 14.4 litres of pure alcohol consumed on average.\n",
    "\n",
    "\n",
    "### Question 2: \n",
    "\n",
    "Do countries with colder climates typically consume more alcohol than those with warmer climates?\n",
    "\n",
    "Using the dataset I pulled, I can see the top 8 countries with the most alcohol consumed, but it doesn't include the climate of the countries. Therefore, I would have to pull the top 8 countries using the dataset, then look up on my own if they are a cold climate or not. "
   ]
  }
 ],
 "metadata": {
  "interpreter": {
   "hash": "aee8b7b246df8f9039afb4144a1f6fd8d2ca17a180786b69acc140d282b71a49"
  },
  "kernelspec": {
   "display_name": "Python 3",
   "language": "python",
   "name": "python3"
  },
  "language_info": {
   "codemirror_mode": {
    "name": "ipython",
    "version": 3
   },
   "file_extension": ".py",
   "mimetype": "text/x-python",
   "name": "python",
   "nbconvert_exporter": "python",
   "pygments_lexer": "ipython3",
   "version": "3.8.8"
  }
 },
 "nbformat": 4,
 "nbformat_minor": 5
}
